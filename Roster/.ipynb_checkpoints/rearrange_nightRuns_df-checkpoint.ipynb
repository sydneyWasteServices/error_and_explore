{
 "cells": [
  {
   "cell_type": "code",
   "execution_count": 1,
   "metadata": {},
   "outputs": [],
   "source": [
    "import pandas as pd\n",
    "import numpy as np"
   ]
  },
  {
   "cell_type": "code",
   "execution_count": 2,
   "metadata": {},
   "outputs": [],
   "source": [
    "PATH = \"/media/sf_BLOB_STORAGE/Roster/Weekdays/Copy of Drivers and Rosters MON 01.03 to TUE 02.03.xlsx\"\n",
    "df = pd.read_excel(PATH)"
   ]
  },
  {
   "cell_type": "code",
   "execution_count": 5,
   "metadata": {},
   "outputs": [
    {
     "data": {
      "text/html": [
       "<div>\n",
       "<style scoped>\n",
       "    .dataframe tbody tr th:only-of-type {\n",
       "        vertical-align: middle;\n",
       "    }\n",
       "\n",
       "    .dataframe tbody tr th {\n",
       "        vertical-align: top;\n",
       "    }\n",
       "\n",
       "    .dataframe thead th {\n",
       "        text-align: right;\n",
       "    }\n",
       "</style>\n",
       "<table border=\"1\" class=\"dataframe\">\n",
       "  <thead>\n",
       "    <tr style=\"text-align: right;\">\n",
       "      <th></th>\n",
       "      <th>NIGHT RUNS</th>\n",
       "      <th>MONDAY</th>\n",
       "      <th>Unnamed: 2</th>\n",
       "      <th>2021-03-01 00:00:00</th>\n",
       "      <th>Date</th>\n",
       "    </tr>\n",
       "  </thead>\n",
       "  <tbody>\n",
       "    <tr>\n",
       "      <th>0</th>\n",
       "      <td>ADONIS AKL</td>\n",
       "      <td>RLE</td>\n",
       "      <td>CL 98 LU</td>\n",
       "      <td>NaN</td>\n",
       "      <td>2021-03-01</td>\n",
       "    </tr>\n",
       "    <tr>\n",
       "      <th>1</th>\n",
       "      <td>PAUL NEVIN</td>\n",
       "      <td>BR2</td>\n",
       "      <td>CJ 65 PS</td>\n",
       "      <td>NaN</td>\n",
       "      <td>2021-03-01</td>\n",
       "    </tr>\n",
       "    <tr>\n",
       "      <th>2</th>\n",
       "      <td>KEVEN SHEATHER</td>\n",
       "      <td>RL8</td>\n",
       "      <td>XN 62 UD</td>\n",
       "      <td>NaN</td>\n",
       "      <td>2021-03-01</td>\n",
       "    </tr>\n",
       "    <tr>\n",
       "      <th>3</th>\n",
       "      <td>ALAN WALDEN</td>\n",
       "      <td>RED</td>\n",
       "      <td>XN 19 IN</td>\n",
       "      <td>NaN</td>\n",
       "      <td>2021-03-01</td>\n",
       "    </tr>\n",
       "    <tr>\n",
       "      <th>4</th>\n",
       "      <td>PETER DINH</td>\n",
       "      <td>RLR</td>\n",
       "      <td>CG 94 KY</td>\n",
       "      <td>NaN</td>\n",
       "      <td>2021-03-01</td>\n",
       "    </tr>\n",
       "  </tbody>\n",
       "</table>\n",
       "</div>"
      ],
      "text/plain": [
       "       NIGHT RUNS MONDAY Unnamed: 2 2021-03-01 00:00:00        Date\n",
       "0      ADONIS AKL    RLE   CL 98 LU                 NaN  2021-03-01\n",
       "1      PAUL NEVIN    BR2   CJ 65 PS                 NaN  2021-03-01\n",
       "2  KEVEN SHEATHER    RL8   XN 62 UD                 NaN  2021-03-01\n",
       "3     ALAN WALDEN    RED   XN 19 IN                 NaN  2021-03-01\n",
       "4      PETER DINH    RLR   CG 94 KY                 NaN  2021-03-01"
      ]
     },
     "execution_count": 5,
     "metadata": {},
     "output_type": "execute_result"
    }
   ],
   "source": [
    "if df.columns[0].lower() == \"night runs\":\n",
    "    hasNightRuns = df[df.iloc[:, 0].str.lower().eq(\"day runs\")].any(True).values\n",
    "    if hasNightRuns:\n",
    "        nightRuns_idx_end = df[df.iloc[:, 0].str.lower().eq(\"day runs\")].index[0]\n",
    "#       To select Night Df\n",
    "        nightRuns_df = df.iloc[0:nightRuns_idx_end]\n",
    "#       \n",
    "        current_nightRuns_Date = df.columns[-1].date()\n",
    "        nightRuns_df.loc[:,'Date'] = current_nightRuns_Date\n",
    "        df2 = df1[df1.columns[[3,2,1,0]]]\n",
    "\n",
    "nightRuns_df"
   ]
  },
  {
   "cell_type": "code",
   "execution_count": null,
   "metadata": {},
   "outputs": [],
   "source": []
  },
  {
   "cell_type": "code",
   "execution_count": null,
   "metadata": {},
   "outputs": [],
   "source": []
  },
  {
   "cell_type": "code",
   "execution_count": null,
   "metadata": {},
   "outputs": [],
   "source": []
  }
 ],
 "metadata": {
  "kernelspec": {
   "display_name": "Python 3",
   "language": "python",
   "name": "python3"
  },
  "language_info": {
   "codemirror_mode": {
    "name": "ipython",
    "version": 3
   },
   "file_extension": ".py",
   "mimetype": "text/x-python",
   "name": "python",
   "nbconvert_exporter": "python",
   "pygments_lexer": "ipython3",
   "version": "3.8.5"
  }
 },
 "nbformat": 4,
 "nbformat_minor": 4
}
