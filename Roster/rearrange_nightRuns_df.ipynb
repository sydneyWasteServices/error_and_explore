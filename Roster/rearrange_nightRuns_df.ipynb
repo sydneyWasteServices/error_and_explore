{
 "cells": [
  {
   "cell_type": "code",
   "execution_count": 1,
   "metadata": {},
   "outputs": [],
   "source": [
    "import pandas as pd\n",
    "import numpy as np"
   ]
  },
  {
   "cell_type": "code",
   "execution_count": 2,
   "metadata": {},
   "outputs": [],
   "source": [
    "PATH = \"/media/sf_BLOB_STORAGE/Roster/Weekdays/Copy of Drivers and Rosters MON 01.03 to TUE 02.03.xlsx\"\n",
    "df = pd.read_excel(PATH)"
   ]
  },
  {
   "cell_type": "code",
   "execution_count": 37,
   "metadata": {},
   "outputs": [
    {
     "name": "stderr",
     "output_type": "stream",
     "text": [
      "<ipython-input-37-85470af22f41>:9: SettingWithCopyWarning: \n",
      "A value is trying to be set on a copy of a slice from a DataFrame.\n",
      "Try using .loc[row_indexer,col_indexer] = value instead\n",
      "\n",
      "See the caveats in the documentation: https://pandas.pydata.org/pandas-docs/stable/user_guide/indexing.html#returning-a-view-versus-a-copy\n",
      "  nightRuns_df['Date'] = current_nightRuns_Date\n"
     ]
    },
    {
     "data": {
      "text/html": [
       "<div>\n",
       "<style scoped>\n",
       "    .dataframe tbody tr th:only-of-type {\n",
       "        vertical-align: middle;\n",
       "    }\n",
       "\n",
       "    .dataframe tbody tr th {\n",
       "        vertical-align: top;\n",
       "    }\n",
       "\n",
       "    .dataframe thead th {\n",
       "        text-align: right;\n",
       "    }\n",
       "</style>\n",
       "<table border=\"1\" class=\"dataframe\">\n",
       "  <thead>\n",
       "    <tr style=\"text-align: right;\">\n",
       "      <th></th>\n",
       "      <th>Route number</th>\n",
       "      <th>Truck number</th>\n",
       "      <th>Date</th>\n",
       "      <th>Firstname</th>\n",
       "      <th>Lastname</th>\n",
       "    </tr>\n",
       "  </thead>\n",
       "  <tbody>\n",
       "    <tr>\n",
       "      <th>0</th>\n",
       "      <td>RLE</td>\n",
       "      <td>CL 98 LU</td>\n",
       "      <td>2021-03-01</td>\n",
       "      <td>ADONIS</td>\n",
       "      <td>AKL</td>\n",
       "    </tr>\n",
       "    <tr>\n",
       "      <th>1</th>\n",
       "      <td>BR2</td>\n",
       "      <td>CJ 65 PS</td>\n",
       "      <td>2021-03-01</td>\n",
       "      <td>PAUL</td>\n",
       "      <td>NEVIN</td>\n",
       "    </tr>\n",
       "    <tr>\n",
       "      <th>2</th>\n",
       "      <td>RL8</td>\n",
       "      <td>XN 62 UD</td>\n",
       "      <td>2021-03-01</td>\n",
       "      <td>KEVEN</td>\n",
       "      <td>SHEATHER</td>\n",
       "    </tr>\n",
       "    <tr>\n",
       "      <th>3</th>\n",
       "      <td>RED</td>\n",
       "      <td>XN 19 IN</td>\n",
       "      <td>2021-03-01</td>\n",
       "      <td>ALAN</td>\n",
       "      <td>WALDEN</td>\n",
       "    </tr>\n",
       "    <tr>\n",
       "      <th>4</th>\n",
       "      <td>RLR</td>\n",
       "      <td>CG 94 KY</td>\n",
       "      <td>2021-03-01</td>\n",
       "      <td>PETER</td>\n",
       "      <td>DINH</td>\n",
       "    </tr>\n",
       "  </tbody>\n",
       "</table>\n",
       "</div>"
      ],
      "text/plain": [
       "  Route number Truck number        Date Firstname  Lastname\n",
       "0          RLE     CL 98 LU  2021-03-01    ADONIS       AKL\n",
       "1          BR2     CJ 65 PS  2021-03-01      PAUL     NEVIN\n",
       "2          RL8     XN 62 UD  2021-03-01     KEVEN  SHEATHER\n",
       "3          RED     XN 19 IN  2021-03-01      ALAN    WALDEN\n",
       "4          RLR     CG 94 KY  2021-03-01     PETER      DINH"
      ]
     },
     "execution_count": 37,
     "metadata": {},
     "output_type": "execute_result"
    }
   ],
   "source": [
    "  if df.columns[0].lower() == \"night runs\":\n",
    "    hasNightRuns = df[df.iloc[:, 0].str.lower().eq(\"day runs\")].any(True).values\n",
    "    if hasNightRuns:\n",
    "        nightRuns_idx_end = df[df.iloc[:, 0].str.lower().eq(\"day runs\")].index[0]\n",
    "#       To select Night Df\n",
    "        nightRuns_df = df.iloc[0:nightRuns_idx_end]\n",
    "#       \n",
    "        current_nightRuns_Date = df.columns[-1].date()\n",
    "        nightRuns_df['Date'] = current_nightRuns_Date\n",
    "        \n",
    "        nightRuns_df[['Firstname', 'Lastname']] = nightRuns_df.iloc[:,0].str.split(\" \", 1, expand=True)\n",
    "        df_2 = nightRuns_df.iloc[:,[1,2,4,5,6]]\n",
    "    else: \n",
    "        print(\"No Night Runs\")\n",
    "\n",
    "df_2.rename(columns={df_2.columns[0] : 'Route number', df_2.columns[1] : 'Truck number'})\n"
   ]
  },
  {
   "cell_type": "code",
   "execution_count": null,
   "metadata": {},
   "outputs": [],
   "source": []
  },
  {
   "cell_type": "code",
   "execution_count": null,
   "metadata": {},
   "outputs": [],
   "source": []
  },
  {
   "cell_type": "code",
   "execution_count": null,
   "metadata": {},
   "outputs": [],
   "source": []
  },
  {
   "cell_type": "code",
   "execution_count": null,
   "metadata": {},
   "outputs": [],
   "source": []
  },
  {
   "cell_type": "code",
   "execution_count": null,
   "metadata": {},
   "outputs": [],
   "source": []
  },
  {
   "cell_type": "code",
   "execution_count": null,
   "metadata": {},
   "outputs": [],
   "source": []
  }
 ],
 "metadata": {
  "kernelspec": {
   "display_name": "Python 3",
   "language": "python",
   "name": "python3"
  },
  "language_info": {
   "codemirror_mode": {
    "name": "ipython",
    "version": 3
   },
   "file_extension": ".py",
   "mimetype": "text/x-python",
   "name": "python",
   "nbconvert_exporter": "python",
   "pygments_lexer": "ipython3",
   "version": "3.8.5"
  }
 },
 "nbformat": 4,
 "nbformat_minor": 4
}
