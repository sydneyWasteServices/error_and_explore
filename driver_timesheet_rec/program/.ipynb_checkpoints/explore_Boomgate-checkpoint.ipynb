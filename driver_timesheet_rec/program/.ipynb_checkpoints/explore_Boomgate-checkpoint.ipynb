{
 "cells": [
  {
   "cell_type": "code",
   "execution_count": 120,
   "metadata": {},
   "outputs": [],
   "source": [
    "import pandas as pd\n",
    "import numpy as np"
   ]
  },
  {
   "cell_type": "code",
   "execution_count": 190,
   "metadata": {},
   "outputs": [
    {
     "name": "stdout",
     "output_type": "stream",
     "text": [
      "<class 'pandas.core.frame.DataFrame'>\n",
      "RangeIndex: 251 entries, 0 to 250\n",
      "Data columns (total 9 columns):\n",
      " #   Column      Non-Null Count  Dtype  \n",
      "---  ------      --------------  -----  \n",
      " 0   #           251 non-null    object \n",
      " 1   Employee    251 non-null    object \n",
      " 2   Location    251 non-null    object \n",
      " 3   Department  251 non-null    object \n",
      " 4   Time In     251 non-null    object \n",
      " 5   Time Out    176 non-null    object \n",
      " 6   Duration    176 non-null    object \n",
      " 7   Rate        205 non-null    object \n",
      " 8   Total       176 non-null    float64\n",
      "dtypes: float64(1), object(8)\n",
      "memory usage: 17.8+ KB\n"
     ]
    }
   ],
   "source": [
    "PATH_A = '/media/sf_BLOB_STORAGE/boomgate_weekly/14th_2021.xlsx'\n",
    "df = pd.read_excel(PATH_A, header=1)\n",
    "df.info()"
   ]
  },
  {
   "cell_type": "code",
   "execution_count": 180,
   "metadata": {},
   "outputs": [
    {
     "name": "stderr",
     "output_type": "stream",
     "text": [
      "/home/gordon-workspace/anaconda3/lib/python3.8/site-packages/pandas/core/frame.py:3065: SettingWithCopyWarning: \n",
      "A value is trying to be set on a copy of a slice from a DataFrame.\n",
      "Try using .loc[row_indexer,col_indexer] = value instead\n",
      "\n",
      "See the caveats in the documentation: https://pandas.pydata.org/pandas-docs/stable/user_guide/indexing.html#returning-a-view-versus-a-copy\n",
      "  self[k1] = value[k2]\n"
     ]
    }
   ],
   "source": [
    "df['Department'] = df['Department'].str.lower().str.rstrip().str.lstrip()\n",
    "driver_df = df[df['Department'].str.startswith('operat')]\n",
    "\n",
    "driver_df[[\"EmployeeID\",'Employee']] = driver_df[\"Employee\"].str.split(\"_\", 1, expand=True)\n",
    "\n",
    " "
   ]
  },
  {
   "cell_type": "code",
   "execution_count": 186,
   "metadata": {},
   "outputs": [
    {
     "name": "stderr",
     "output_type": "stream",
     "text": [
      "<ipython-input-186-6e36f81bc017>:7: SettingWithCopyWarning: \n",
      "A value is trying to be set on a copy of a slice from a DataFrame.\n",
      "Try using .loc[row_indexer,col_indexer] = value instead\n",
      "\n",
      "See the caveats in the documentation: https://pandas.pydata.org/pandas-docs/stable/user_guide/indexing.html#returning-a-view-versus-a-copy\n",
      "  df_entry[\"Time In\"] = df_entry['Time In'].str.split(\"at\", 1, expand=True)[1]\n",
      "<ipython-input-186-6e36f81bc017>:8: SettingWithCopyWarning: \n",
      "A value is trying to be set on a copy of a slice from a DataFrame.\n",
      "Try using .loc[row_indexer,col_indexer] = value instead\n",
      "\n",
      "See the caveats in the documentation: https://pandas.pydata.org/pandas-docs/stable/user_guide/indexing.html#returning-a-view-versus-a-copy\n",
      "  df_exit[\"Time Out\"] = df_exit['Time In'].str.split(\"at\", 1, expand=True)[1]\n",
      "<ipython-input-186-6e36f81bc017>:9: SettingWithCopyWarning: \n",
      "A value is trying to be set on a copy of a slice from a DataFrame.\n",
      "Try using .loc[row_indexer,col_indexer] = value instead\n",
      "\n",
      "See the caveats in the documentation: https://pandas.pydata.org/pandas-docs/stable/user_guide/indexing.html#returning-a-view-versus-a-copy\n",
      "  df_exit[\"Time In\"] = np.nan\n",
      "/home/gordon-workspace/anaconda3/lib/python3.8/site-packages/pandas/core/frame.py:3065: SettingWithCopyWarning: \n",
      "A value is trying to be set on a copy of a slice from a DataFrame.\n",
      "Try using .loc[row_indexer,col_indexer] = value instead\n",
      "\n",
      "See the caveats in the documentation: https://pandas.pydata.org/pandas-docs/stable/user_guide/indexing.html#returning-a-view-versus-a-copy\n",
      "  self[k1] = value[k2]\n"
     ]
    }
   ],
   "source": [
    "df_entry = df[df['Time In'].str.lower().str.startswith('entry')]\n",
    "# df_entry\n",
    "df_exit = df[df['Time In'].str.lower().str.startswith('exit')]\n",
    "\n",
    "# driver_df['Time In'].sort_values()\n",
    "\n",
    "df_entry[\"Time In\"] = df_entry['Time In'].str.split(\"at\", 1, expand=True)[1]\n",
    "df_exit[\"Time Out\"] = df_exit['Time In'].str.split(\"at\", 1, expand=True)[1]\n",
    "df_exit[\"Time In\"] = np.nan\n",
    "\n",
    "# df_entry\n",
    "# driver_df = df[~df['Time In'].str.lower().str.startswith('entry')]\n",
    "\n",
    "# driver_df = driver_df[~df['Time In'].str.lower().str.startswith('exit')]\n",
    "# # driver_df['Time In'].str.split(\" \")\n",
    "# driver_df.info()\n",
    "\n",
    "df_entry[[\"EmployeeID\",'Employee']] = df_entry[\"Employee\"].str.split(\"_\", 1, expand=True)\n",
    "df_exit[[\"EmployeeID\",'Employee']] = df_exit[\"Employee\"].str.split(\"_\", 1, expand=True)\n"
   ]
  },
  {
   "cell_type": "code",
   "execution_count": null,
   "metadata": {},
   "outputs": [],
   "source": []
  },
  {
   "cell_type": "code",
   "execution_count": 188,
   "metadata": {},
   "outputs": [],
   "source": [
    "new_df = pd.concat([driver_df, df_entry, df_exit])"
   ]
  },
  {
   "cell_type": "code",
   "execution_count": 193,
   "metadata": {},
   "outputs": [],
   "source": [
    "new_df['Boomgate_out']= pd.to_datetime(df['Time Out'], errors='coerce', format=\"%d/%m/%Y %H:%M\")\n"
   ]
  },
  {
   "cell_type": "code",
   "execution_count": 194,
   "metadata": {},
   "outputs": [],
   "source": [
    "new_df['Boomgate_In']= pd.to_datetime(df['Time In'], errors='coerce', format=\"%d/%m/%Y %H:%M\")\n"
   ]
  },
  {
   "cell_type": "code",
   "execution_count": 196,
   "metadata": {},
   "outputs": [],
   "source": [
    "new_df.to_csv('/media/sf_BLOB_STORAGE/boomgate_weekly/boomgate_time_changed.csv')"
   ]
  },
  {
   "cell_type": "code",
   "execution_count": null,
   "metadata": {},
   "outputs": [],
   "source": []
  }
 ],
 "metadata": {
  "kernelspec": {
   "display_name": "Python 3",
   "language": "python",
   "name": "python3"
  },
  "language_info": {
   "codemirror_mode": {
    "name": "ipython",
    "version": 3
   },
   "file_extension": ".py",
   "mimetype": "text/x-python",
   "name": "python",
   "nbconvert_exporter": "python",
   "pygments_lexer": "ipython3",
   "version": "3.8.5"
  }
 },
 "nbformat": 4,
 "nbformat_minor": 5
}
